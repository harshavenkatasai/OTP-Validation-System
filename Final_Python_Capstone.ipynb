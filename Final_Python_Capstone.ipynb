{
  "nbformat": 4,
  "nbformat_minor": 0,
  "metadata": {
    "colab": {
      "provenance": []
    },
    "kernelspec": {
      "name": "python3",
      "display_name": "Python 3"
    },
    "language_info": {
      "name": "python"
    }
  },
  "cells": [
    {
      "cell_type": "markdown",
      "source": [
        "***OTP Validation System"
      ],
      "metadata": {
        "id": "RjOw1WyYR092"
      }
    },
    {
      "cell_type": "code",
      "source": [
        "S_email='example1@gmail.com'\n",
        "R_email='example2@gmail.com'\n",
        "S_pass='xxxxxxxxx'"
      ],
      "metadata": {
        "id": "EBkUOSSB58We"
      },
      "execution_count": null,
      "outputs": []
    },
    {
      "cell_type": "code",
      "source": [
        "#importing required librarys\n",
        "import random\n",
        "import smtplib,ssl\n",
        "\n",
        "global otp  # Global Veriable\n",
        "\n",
        "\n",
        "# Function to Generate Otp\n",
        "def generateOtp():\n",
        "  otp = random.randint(100000, 999999)\n",
        "  email_Service(otp)\n",
        "  ValidateOtp(otp)\n",
        "\n",
        "# Function to send email\n",
        "def email_Service(otp):\n",
        "  port = 587\n",
        "  smtp_server = \"smtp.gmail.com\"\n",
        "  Sender_email=S_email\n",
        "  Receiver_email=R_email\n",
        "  password=S_pass\n",
        "  subject='OTP Validation Test'\n",
        "  body='Your Otp is {}'.format(otp)\n",
        "  message='Subject:{}\\n\\n{}'.format(subject,body)\n",
        "  context = ssl.create_default_context()\n",
        "  with smtplib.SMTP(smtp_server, port) as server:\n",
        "    server.ehlo()\n",
        "    server.starttls(context=context)\n",
        "    server.ehlo()\n",
        "    server.login(Sender_email, password)\n",
        "    server.sendmail(Sender_email, Receiver_email, message)\n",
        "    print(\"Email Sent\")\n",
        "\n",
        "\n",
        "# Function to validate Otp\n",
        "def ValidateOtp(code):\n",
        "  for i in range(3):\n",
        "      user = input(\"Enter Your Otp : \")\n",
        "      if user == str(code):\n",
        "        print(\"Otp is Valid\")\n",
        "        return  # Exits the function gracefully\n",
        "      elif user == 'Resend':\n",
        "        generateOtp()\n",
        "        break  # Exit the loop after generating a new OTP\n",
        "      elif i==2:\n",
        "        print(\"'Retry Again in other Session'\")\n",
        "      else:\n",
        "        print(f\"Otp is Invalid. Retry or enter 'Resend' for another otp. You are on {i + 1} try out of 3\")\n",
        "  print(\"End of OTP validation process.\")\n",
        "\n",
        "#main\n",
        "generateOtp()"
      ],
      "metadata": {
        "id": "IIjMPVBQSdHs",
        "colab": {
          "base_uri": "https://localhost:8080/"
        },
        "outputId": "4b9ec985-b38b-43b2-e201-228a6aa612c6"
      },
      "execution_count": null,
      "outputs": [
        {
          "output_type": "stream",
          "name": "stdout",
          "text": [
            "Email Sent\n",
            "Enter Your Otp : 480455\n",
            "Otp is Valid\n"
          ]
        }
      ]
    }
  ]
}